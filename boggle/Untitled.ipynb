{
 "cells": [
  {
   "cell_type": "code",
   "execution_count": null,
   "id": "fc7abbf3-4950-459c-b93a-4625f7f48730",
   "metadata": {},
   "outputs": [],
   "source": [
    "import defaultdict\n",
    "\n",
    "if __name__ == \"__main__\":\n",
    "    board_size = 5\n",
    "    case_num = input()\n",
    "    board = defaultdict(list)\n",
    "    for x in board_size:\n",
    "        for y, str in enumerate(list(input().split())):\n",
    "            board[str].append([x, y])\n",
    "    ans_num = input()\n",
    "    answers = list()\n",
    "    for _ in ans_num:\n",
    "        answers.append(input())\n",
    "    print(f'N: {case_num}, board: {board}, answers: {answers}')"
   ]
  }
 ],
 "metadata": {
  "kernelspec": {
   "display_name": "Python 3 (ipykernel)",
   "language": "python",
   "name": "python3"
  },
  "language_info": {
   "codemirror_mode": {
    "name": "ipython",
    "version": 3
   },
   "file_extension": ".py",
   "mimetype": "text/x-python",
   "name": "python",
   "nbconvert_exporter": "python",
   "pygments_lexer": "ipython3",
   "version": "3.9.12"
  }
 },
 "nbformat": 4,
 "nbformat_minor": 5
}
